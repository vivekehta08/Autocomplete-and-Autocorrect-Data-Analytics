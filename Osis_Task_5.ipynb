{
 "cells": [
  {
   "cell_type": "markdown",
   "id": "6f926b97-aded-4b5c-a050-458778895bbc",
   "metadata": {},
   "source": [
    "# Autocomplete and Autocorrect Data Analytics "
   ]
  },
  {
   "cell_type": "markdown",
   "id": "1b548e68-921e-4034-a1bd-888842f4cbc0",
   "metadata": {},
   "source": [
    "### Description:\n",
    "\n",
    "\n",
    "\n",
    "##### Explore the efficiency and accuracy of autocomplete and autocorrect algorithms in natural language processing (NLP) through this data analytics project. The objective is to enhance user experience and text prediction by analyzing large datasets and implementing or optimizing autocomplete and autocorrect functionalities."
   ]
  },
  {
   "cell_type": "code",
   "execution_count": 25,
   "id": "fa8b8bbe-b4a7-47a0-b773-10eb0f5a3728",
   "metadata": {},
   "outputs": [],
   "source": [
    "# Import necessary libraries\n",
    "import pandas as pd\n",
    "import numpy as np\n",
    "import re\n",
    "import string\n",
    "from nltk.corpus import stopwords\n",
    "from nltk.tokenize import word_tokenize\n",
    "from collections import defaultdict\n",
    "import seaborn as sns\n",
    "import matplotlib.pyplot as plt\n",
    "from sklearn.metrics import accuracy_score, precision_score, recall_score, f1_score"
   ]
  },
  {
   "cell_type": "markdown",
   "id": "ce1f8712-5cbc-4bb8-a73f-5b1cfd6c9555",
   "metadata": {},
   "source": [
    "# Load the dataset\n"
   ]
  },
  {
   "cell_type": "code",
   "execution_count": 35,
   "id": "94d71a5a-4c73-479a-beca-5fe8b7549c47",
   "metadata": {},
   "outputs": [],
   "source": [
    "# Load the dataset\n",
    "df = pd.read_csv('creditcard.csv')"
   ]
  },
  {
   "cell_type": "code",
   "execution_count": 36,
   "id": "2652d5ce-43e5-422e-b870-393145065541",
   "metadata": {},
   "outputs": [],
   "source": [
    "# Placeholder text column for demonstration purposes\n",
    "df['text'] = \"This is a placeholder text for NLP processing in the project. This text will be replaced by actual data in real scenarios.\""
   ]
  },
  {
   "cell_type": "markdown",
   "id": "3e2b917c-a692-4dcb-bd03-92013434973e",
   "metadata": {},
   "source": [
    "# Function to clean and normalize text"
   ]
  },
  {
   "cell_type": "code",
   "execution_count": 39,
   "id": "a7a015ef-76b1-4ced-b7c1-358f7cdf90a6",
   "metadata": {},
   "outputs": [],
   "source": [
    "def preprocess_text(text):\n",
    "    \"\"\"\n",
    "    Clean and normalize the text data.\n",
    "    1. Convert text to lowercase.\n",
    "    2. Remove punctuation and numbers.\n",
    "    3. Tokenize the text.\n",
    "    4. Remove stop words.\n",
    "    \"\"\"\n",
    "    # Convert text to lowercase\n",
    "    text = text.lower()\n",
    "    # Remove punctuation\n",
    "    text = text.translate(str.maketrans('', '', string.punctuation))\n",
    "    # Remove numbers\n",
    "    text = re.sub(r'\\d+', '', text)\n",
    "    # Tokenize the text\n",
    "    tokens = word_tokenize(text)\n",
    "    # Remove stop words\n",
    "    stop_words = set(stopwords.words('english'))\n",
    "    tokens = [word for word in tokens if word not in stop_words]\n",
    "    return tokens"
   ]
  },
  {
   "cell_type": "code",
   "execution_count": 41,
   "id": "392a306f-1bd4-4c76-8f01-5b786121a85c",
   "metadata": {},
   "outputs": [],
   "source": [
    "# Apply preprocessing to the text column\n",
    "df['tokens'] = df['text'].apply(preprocess_text)"
   ]
  },
  {
   "cell_type": "code",
   "execution_count": 42,
   "id": "fa04a636-444c-453b-9feb-fa753496f418",
   "metadata": {},
   "outputs": [],
   "source": [
    "# Example of normalization\n",
    "df['normalized_text'] = df['tokens'].apply(lambda tokens: ' '.join(tokens))"
   ]
  },
  {
   "cell_type": "code",
   "execution_count": 43,
   "id": "1b899315-a8f9-40b2-825a-7e797efd841c",
   "metadata": {},
   "outputs": [
    {
     "name": "stdout",
     "output_type": "stream",
     "text": [
      "   Time        V1        V2        V3        V4        V5        V6        V7  \\\n",
      "0   0.0 -1.359807 -0.072781  2.536347  1.378155 -0.338321  0.462388  0.239599   \n",
      "1   0.0  1.191857  0.266151  0.166480  0.448154  0.060018 -0.082361 -0.078803   \n",
      "2   1.0 -1.358354 -1.340163  1.773209  0.379780 -0.503198  1.800499  0.791461   \n",
      "3   1.0 -0.966272 -0.185226  1.792993 -0.863291 -0.010309  1.247203  0.237609   \n",
      "4   2.0 -1.158233  0.877737  1.548718  0.403034 -0.407193  0.095921  0.592941   \n",
      "\n",
      "         V8        V9  ...       V24       V25       V26       V27       V28  \\\n",
      "0  0.098698  0.363787  ...  0.066928  0.128539 -0.189115  0.133558 -0.021053   \n",
      "1  0.085102 -0.255425  ... -0.339846  0.167170  0.125895 -0.008983  0.014724   \n",
      "2  0.247676 -1.514654  ... -0.689281 -0.327642 -0.139097 -0.055353 -0.059752   \n",
      "3  0.377436 -1.387024  ... -1.175575  0.647376 -0.221929  0.062723  0.061458   \n",
      "4 -0.270533  0.817739  ...  0.141267 -0.206010  0.502292  0.219422  0.215153   \n",
      "\n",
      "   Amount  Class                                               text  \\\n",
      "0  149.62      0  This is a placeholder text for NLP processing ...   \n",
      "1    2.69      0  This is a placeholder text for NLP processing ...   \n",
      "2  378.66      0  This is a placeholder text for NLP processing ...   \n",
      "3  123.50      0  This is a placeholder text for NLP processing ...   \n",
      "4   69.99      0  This is a placeholder text for NLP processing ...   \n",
      "\n",
      "                                              tokens  \\\n",
      "0  [placeholder, text, nlp, processing, project, ...   \n",
      "1  [placeholder, text, nlp, processing, project, ...   \n",
      "2  [placeholder, text, nlp, processing, project, ...   \n",
      "3  [placeholder, text, nlp, processing, project, ...   \n",
      "4  [placeholder, text, nlp, processing, project, ...   \n",
      "\n",
      "                                     normalized_text  \n",
      "0  placeholder text nlp processing project text r...  \n",
      "1  placeholder text nlp processing project text r...  \n",
      "2  placeholder text nlp processing project text r...  \n",
      "3  placeholder text nlp processing project text r...  \n",
      "4  placeholder text nlp processing project text r...  \n",
      "\n",
      "[5 rows x 34 columns]\n"
     ]
    }
   ],
   "source": [
    "# Display the preprocessed tokens and normalized text\n",
    "print(df.head())"
   ]
  },
  {
   "cell_type": "markdown",
   "id": "355616fb-dda0-4328-acc0-bf2099c44d00",
   "metadata": {},
   "source": [
    "# Autocomplete Implementation"
   ]
  },
  {
   "cell_type": "code",
   "execution_count": 44,
   "id": "13d7e30b-5023-48bf-b4ad-9edc5585cd49",
   "metadata": {},
   "outputs": [],
   "source": [
    "def train_bigram_model(tokens):\n",
    "    \"\"\"\n",
    "    Train a bigram model to predict the next word based on the current word.\n",
    "    \"\"\"\n",
    "    model = defaultdict(lambda: defaultdict(lambda: 0))\n",
    "    for token_list in tokens:\n",
    "        for i in range(len(token_list)-1):\n",
    "            model[token_list[i]][token_list[i+1]] += 1\n",
    "    return model"
   ]
  },
  {
   "cell_type": "code",
   "execution_count": 45,
   "id": "7844ee41-f92b-47c4-8970-e901e7d26801",
   "metadata": {},
   "outputs": [],
   "source": [
    "# Train the bigram model\n",
    "bigram_model = train_bigram_model(df['tokens'])"
   ]
  },
  {
   "cell_type": "code",
   "execution_count": 46,
   "id": "01017ae3-5381-480a-afc8-ab72da15f658",
   "metadata": {},
   "outputs": [],
   "source": [
    "# Function to predict the next word\n",
    "def predict_next_word(model, word):\n",
    "    \"\"\"\n",
    "    Predict the next word given the current word using the bigram model.\n",
    "    \"\"\"\n",
    "    next_word_candidates = model[word]\n",
    "    if next_word_candidates:\n",
    "        return max(next_word_candidates, key=next_word_candidates.get)\n",
    "    return None"
   ]
  },
  {
   "cell_type": "markdown",
   "id": "9f0e679b-2ea5-4d5f-8761-a5b7db89b9d6",
   "metadata": {},
   "source": [
    "# Autocorrect Implementation"
   ]
  },
  {
   "cell_type": "code",
   "execution_count": 23,
   "id": "c0d91223-36b6-4461-9062-0f03090764c2",
   "metadata": {},
   "outputs": [],
   "source": [
    "# Optimizing algorithms for spelling error correction using edit distance\n",
    "\n",
    "def edit_distance(word1, word2):\n",
    "    dp = np.zeros((len(word1)+1, len(word2)+1), dtype=int)\n",
    "    for i in range(len(word1)+1):\n",
    "        for j in range(len(word2)+1):\n",
    "            if i == 0:\n",
    "                dp[i][j] = j\n",
    "            elif j == 0:\n",
    "                dp[i][j] = i\n",
    "            elif word1[i-1] == word2[j-1]:\n",
    "                dp[i][j] = dp[i-1][j-1]\n",
    "            else:\n",
    "                dp[i][j] = 1 + min(dp[i-1][j], dp[i][j-1], dp[i-1][j-1])\n",
    "    return dp[len(word1)][len(word2)]"
   ]
  },
  {
   "cell_type": "code",
   "execution_count": 47,
   "id": "6e61dc86-c714-4aa1-8c74-754d833d81ab",
   "metadata": {},
   "outputs": [
    {
     "name": "stdout",
     "output_type": "stream",
     "text": [
      "3\n"
     ]
    }
   ],
   "source": [
    "# Example usage of edit distance\n",
    "print(edit_distance(\"example\", \"samples\"))"
   ]
  },
  {
   "cell_type": "markdown",
   "id": "2a596a2c-b03c-48e0-86f4-28972f5e3a08",
   "metadata": {},
   "source": [
    "# Performance Metrics"
   ]
  },
  {
   "cell_type": "code",
   "execution_count": 49,
   "id": "5e3bb84a-1987-4ced-bc73-6a10e8894ada",
   "metadata": {},
   "outputs": [],
   "source": [
    "# Placeholder values for demonstration (Replace with actual values in a real scenario)\n",
    "true_autocomplete = ['word1', 'word2', 'word3']  # Actual words\n",
    "predicted_autocomplete = ['word1', 'word2', 'word4']  # Predicted words\n",
    "\n",
    "true_autocorrect = ['spelling', 'error', 'corrected']  # Actual corrected words\n",
    "predicted_autocorrect = ['speling', 'eror', 'correctd']  # Predicted corrected words"
   ]
  },
  {
   "cell_type": "code",
   "execution_count": 50,
   "id": "227a8d8e-a713-4956-b66b-474c429dff60",
   "metadata": {},
   "outputs": [],
   "source": [
    "# Autocomplete Metrics\n",
    "accuracy_autocomplete = accuracy_score(true_autocomplete, predicted_autocomplete)\n",
    "precision_autocomplete = precision_score(true_autocomplete, predicted_autocomplete, average='weighted', zero_division=0)\n",
    "recall_autocomplete = recall_score(true_autocomplete, predicted_autocomplete, average='weighted', zero_division=0)\n",
    "f1_autocomplete = f1_score(true_autocomplete, predicted_autocomplete, average='weighted', zero_division=0)"
   ]
  },
  {
   "cell_type": "code",
   "execution_count": 51,
   "id": "5fdcfc1c-38ac-483c-8335-e4c42a871d0d",
   "metadata": {},
   "outputs": [],
   "source": [
    "# Autocorrect Metrics\n",
    "accuracy_autocorrect = accuracy_score(true_autocorrect, predicted_autocorrect)\n",
    "precision_autocorrect = precision_score(true_autocorrect, predicted_autocorrect, average='weighted', zero_division=0)\n",
    "recall_autocorrect = recall_score(true_autocorrect, predicted_autocorrect, average='weighted', zero_division=0)\n",
    "f1_autocorrect = f1_score(true_autocorrect, predicted_autocorrect, average='weighted', zero_division=0)"
   ]
  },
  {
   "cell_type": "code",
   "execution_count": 52,
   "id": "97afc625-b962-4f31-b4ae-0ab6374cc957",
   "metadata": {},
   "outputs": [
    {
     "name": "stdout",
     "output_type": "stream",
     "text": [
      "Autocomplete Performance Metrics:\n",
      "Accuracy: 0.67\n",
      "Precision: 0.67\n",
      "Recall: 0.67\n",
      "F1 Score: 0.67\n"
     ]
    }
   ],
   "source": [
    "# Displaying the results\n",
    "print(\"Autocomplete Performance Metrics:\")\n",
    "print(f\"Accuracy: {accuracy_autocomplete:.2f}\")\n",
    "print(f\"Precision: {precision_autocomplete:.2f}\")\n",
    "print(f\"Recall: {recall_autocomplete:.2f}\")\n",
    "print(f\"F1 Score: {f1_autocomplete:.2f}\")"
   ]
  },
  {
   "cell_type": "code",
   "execution_count": 53,
   "id": "b970cde7-5648-44b1-b75c-780d6d400327",
   "metadata": {},
   "outputs": [
    {
     "name": "stdout",
     "output_type": "stream",
     "text": [
      "\n",
      "Autocorrect Performance Metrics:\n",
      "Accuracy: 0.00\n",
      "Precision: 0.00\n",
      "Recall: 0.00\n",
      "F1 Score: 0.00\n"
     ]
    }
   ],
   "source": [
    "print(\"\\nAutocorrect Performance Metrics:\")\n",
    "print(f\"Accuracy: {accuracy_autocorrect:.2f}\")\n",
    "print(f\"Precision: {precision_autocorrect:.2f}\")\n",
    "print(f\"Recall: {recall_autocorrect:.2f}\")\n",
    "print(f\"F1 Score: {f1_autocorrect:.2f}\")"
   ]
  },
  {
   "cell_type": "markdown",
   "id": "0dd20b1a-12a1-43fb-8968-358b8649e393",
   "metadata": {},
   "source": [
    "# Visualization"
   ]
  },
  {
   "cell_type": "code",
   "execution_count": 55,
   "id": "936423df-0829-4c5f-8f83-e8308896169f",
   "metadata": {},
   "outputs": [
    {
     "data": {
      "image/png": "[encoded data removed]",
      "text/plain": [
       "<Figure size 640x480 with 1 Axes>"
      ]
     },
     "metadata": {},
     "output_type": "display_data"
    }
   ],
   "source": [
    "metrics = {\n",
    "    'Autocomplete Accuracy': accuracy_autocomplete,\n",
    "    'Autocomplete Precision': precision_autocomplete,\n",
    "    'Autocomplete Recall': recall_autocomplete,\n",
    "    'Autocomplete F1 Score': f1_autocomplete,\n",
    "    'Autocorrect Accuracy': accuracy_autocorrect,\n",
    "    'Autocorrect Precision': precision_autocorrect,\n",
    "    'Autocorrect Recall': recall_autocorrect,\n",
    "    'Autocorrect F1 Score': f1_autocorrect\n",
    "}\n",
    "\n",
    "metrics_df = pd.DataFrame.from_dict(metrics, orient='index', columns=['Score'])\n",
    "\n",
    "sns.barplot(x=metrics_df.index, y=metrics_df['Score'])\n",
    "plt.title('Performance Metrics for Autocomplete and Autocorrect')\n",
    "plt.xticks(rotation=45, ha='right')\n",
    "plt.show()"
   ]
  },
  {
   "cell_type": "markdown",
   "id": "985b0dcc-436d-4737-b901-af40d5466aa8",
   "metadata": {},
   "source": [
    "# Conclusion"
   ]
  },
  {
   "cell_type": "code",
   "execution_count": 70,
   "id": "2502c5f1-f68a-4006-b740-fffbf39967a6",
   "metadata": {},
   "outputs": [
    {
     "name": "stdout",
     "output_type": "stream",
     "text": [
      "Autocomplete and Autocorrect Data Analytics Project completed successfully!\n"
     ]
    }
   ],
   "source": [
    "# Summarize the project and suggest future improvements\n",
    "print(\"Autocomplete and Autocorrect Data Analytics Project completed successfully!\")"
   ]
  },
  {
   "cell_type": "code",
   "execution_count": null,
   "id": "98764449-c051-4d36-93cd-9dc9ed03ceb9",
   "metadata": {},
   "outputs": [],
   "source": []
  }
 ],
 "metadata": {
  "kernelspec": {
   "display_name": "Python 3 (ipykernel)",
   "language": "python",
   "name": "python3"
  },
  "language_info": {
   "codemirror_mode": {
    "name": "ipython",
    "version": 3
   },
   "file_extension": ".py",
   "mimetype": "text/x-python",
   "name": "python",
   "nbconvert_exporter": "python",
   "pygments_lexer": "ipython3",
   "version": "3.12.4"
  }
 },
 "nbformat": 4,
 "nbformat_minor": 5
}
